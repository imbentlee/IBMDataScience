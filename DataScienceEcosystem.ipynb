{
 "cells": [
  {
   "cell_type": "markdown",
   "id": "cc028582-d2b0-4bcd-b850-5b7a9b62a91f",
   "metadata": {},
   "source": [
    "<h1>Data Science Tools and Ecosystem</h1>"
   ]
  },
  {
   "cell_type": "markdown",
   "id": "5cc85c52-a0a5-4f44-bc33-d1da97de68c3",
   "metadata": {},
   "source": [
    "In this notebook, Data Science Tools and Ecosystem are summarized."
   ]
  },
  {
   "cell_type": "markdown",
   "id": "28cb415e-fd30-43e1-94a7-8a0567940659",
   "metadata": {},
   "source": [
    "Some of the popular languages that Data Scientists use are:\n",
    "1. Python\n",
    "2. R\n",
    "3. Julia\n",
    "4. Java"
   ]
  },
  {
   "cell_type": "markdown",
   "id": "d096ee7c-0291-4681-86dc-6a5e2fea9823",
   "metadata": {},
   "source": [
    "Some of the commonly used libraries used by Data Scientists include:\n",
    "1. Tensorflow\n",
    "2. NumPy\n",
    "3. SciPy\n",
    "4. Pandas\n",
    "5. Keras"
   ]
  },
  {
   "cell_type": "markdown",
   "id": "a62202af-bd97-4121-a4d3-9f93018cfea7",
   "metadata": {},
   "source": [
    "Data Science Tools|\n",
    "-----------------|\n",
    "Jupyter Notebook|\n",
    "RStudio|\n",
    "Apache Zeppelin|"
   ]
  },
  {
   "cell_type": "markdown",
   "id": "59461c48-1fd8-47e6-a08c-02929f834c86",
   "metadata": {},
   "source": [
    "<h3>Below are a few examples of evaluating arithmetic expressions in Python</h3>"
   ]
  },
  {
   "cell_type": "code",
   "execution_count": 7,
   "id": "1927d18e-2eec-46bf-b9b7-7dbcb5de995d",
   "metadata": {},
   "outputs": [
    {
     "name": "stdout",
     "output_type": "stream",
     "text": [
      "(3*4)+5 = 17\n"
     ]
    }
   ],
   "source": [
    "# This is a simple arithmetic expression to multiply then add integers\n",
    "\n",
    "result = (3*4)+5\n",
    "\n",
    "print(f'(3*4)+5 = {result}')"
   ]
  },
  {
   "cell_type": "code",
   "execution_count": 8,
   "id": "ee4e7966-5124-4638-b579-4a39c5bce354",
   "metadata": {},
   "outputs": [
    {
     "name": "stdout",
     "output_type": "stream",
     "text": [
      "200 minutes = 3.3333333333333335 hours\n"
     ]
    }
   ],
   "source": [
    "# This will convert 200 minutes to hours by diving by 60\n",
    "\n",
    "given_minutes = 200\n",
    "hours = given_minutes/60\n",
    "\n",
    "print(f'200 minutes = {hours} hours')"
   ]
  },
  {
   "cell_type": "markdown",
   "id": "c6ff9ceb-8d4c-421c-8c71-a45a4682db55",
   "metadata": {},
   "source": [
    "<b>Objectives:</b>\n",
    "\n",
    "- Popular languages used by data scientists\n",
    "- Commonly used libraries used by data scientists\n",
    "- Use of tables in markdown cells\n",
    "- Some basic arithmetic equations"
   ]
  },
  {
   "cell_type": "markdown",
   "id": "4fceec9d-ca6c-4ba8-9bea-718d2f039d40",
   "metadata": {},
   "source": [
    "<h2>Author</h2>\n",
    "\n",
    "Ben Lee"
   ]
  }
 ],
 "metadata": {
  "kernelspec": {
   "display_name": "Python 3 (ipykernel)",
   "language": "python",
   "name": "python3"
  },
  "language_info": {
   "codemirror_mode": {
    "name": "ipython",
    "version": 3
   },
   "file_extension": ".py",
   "mimetype": "text/x-python",
   "name": "python",
   "nbconvert_exporter": "python",
   "pygments_lexer": "ipython3",
   "version": "3.10.14"
  }
 },
 "nbformat": 4,
 "nbformat_minor": 5
}
